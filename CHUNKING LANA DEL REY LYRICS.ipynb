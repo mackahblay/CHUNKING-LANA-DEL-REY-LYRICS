{
 "cells": [
  {
   "cell_type": "code",
   "execution_count": 1,
   "id": "97f0076e-89f7-4405-8b59-921e0766c36e",
   "metadata": {},
   "outputs": [],
   "source": [
    "import pandas as pd\n",
    "import numpy as np\n",
    "import matplotlib.pyplot as plt\n",
    "import matplotlib.style as style\n",
    "style.use('ggplot')\n",
    "import seaborn as sns"
   ]
  },
  {
   "cell_type": "code",
   "execution_count": 2,
   "id": "ca8ed4b2-014d-4275-aded-5b8811087a4c",
   "metadata": {},
   "outputs": [],
   "source": [
    "import langchain"
   ]
  },
  {
   "cell_type": "code",
   "execution_count": 3,
   "id": "21729222-a45d-46ef-b79b-e082a801c884",
   "metadata": {},
   "outputs": [
    {
     "data": {
      "text/plain": [
       "'0.3.9'"
      ]
     },
     "execution_count": 3,
     "metadata": {},
     "output_type": "execute_result"
    }
   ],
   "source": [
    "langchain.__version__"
   ]
  },
  {
   "cell_type": "markdown",
   "id": "2c26d603-ad1e-43d1-8666-49075913a53c",
   "metadata": {},
   "source": [
    "chunking is the process of splitting large texts into smaller parts"
   ]
  },
  {
   "cell_type": "code",
   "execution_count": 5,
   "id": "c7e3f901-ef57-467f-8838-19c82f6508ea",
   "metadata": {},
   "outputs": [],
   "source": [
    "from langchain.text_splitter import RecursiveCharacterTextSplitter"
   ]
  },
  {
   "cell_type": "code",
   "execution_count": 7,
   "id": "7514f21d-70d5-49ef-89f4-82b934338df1",
   "metadata": {},
   "outputs": [],
   "source": [
    "lana_dey_rey_lyrics = \"\"\"\n",
    "\n",
    "'ve seen the world, done it all\n",
    "Had my cake now\n",
    "Diamonds, brilliant, and Bel Air now\n",
    "\n",
    "[Pre-Chorus]\n",
    "Hot summer nights, mid-July\n",
    "When you and I were forever wild\n",
    "The crazy days, city lights\n",
    "The way you'd play with me like a child\n",
    "\n",
    "[Chorus]\n",
    "Will you still love me when I'm no longer young and beautiful?\n",
    "Will you still love me when I got nothing but my aching soul?\n",
    "I know you will, I know you will, I know that you will\n",
    "Will you still love me when I'm no longer beautiful?\n",
    "\n",
    "[Verse 2]\n",
    "I've seen the world, lit it up as my stage now\n",
    "Channeling angels in the new age now\n",
    "\n",
    "[Pre-Chorus]\n",
    "Hot summer days, rock and roll\n",
    "The way you'd play for me at your show\n",
    "And all the ways I got to know\n",
    "Your pretty face and electric soul\n",
    "You might also like\n",
    "The Tortured Poets Department\n",
    "Taylor Swift\n",
    "loml\n",
    "Taylor Swift\n",
    "Sticky\n",
    "Tyler, The Creator\n",
    "[Chorus]\n",
    "Will you still love me when I'm no longer young and beautiful?\n",
    "Will you still love me when I got nothing but my aching soul?\n",
    "I know you will, I know you will, I know that you will\n",
    "Will you still love me when I'm no longer beautiful?\n",
    "\n",
    "[Bridge]\n",
    "Dear Lord, when I get to Heaven\n",
    "Please, let me bring my man\n",
    "When he comes, tell me that You'll let him in\n",
    "Father, tell me if You can\n",
    "All that grace, all that body\n",
    "All that face makes me wanna party\n",
    "He's my sun, he makes me shine like diamonds\n",
    "\n",
    "[Chorus]\n",
    "And will you still love me when I'm no longer young and beautiful?\n",
    "Will you still love me when I got nothin' but my aching soul?\n",
    "I know you will, I know you will, I know that you will\n",
    "Will you still love me when I'm no longer beautiful?\n",
    "\n",
    "[Outro]\n",
    "Will you still love me when I'm no longer beautiful?\n",
    "Will you still love me when I'm not young and beautiful?\n",
    "\n",
    "\n",
    "\"\"\""
   ]
  },
  {
   "cell_type": "code",
   "execution_count": 15,
   "id": "39adc883-5480-44e7-b6f6-08f019d69d72",
   "metadata": {},
   "outputs": [],
   "source": [
    "splitter = RecursiveCharacterTextSplitter(\n",
    "    chunk_size = 300,\n",
    "    chunk_overlap = 50\n",
    ")"
   ]
  },
  {
   "cell_type": "code",
   "execution_count": 16,
   "id": "6390edab-4e7f-40c8-a988-63ea463666fd",
   "metadata": {},
   "outputs": [],
   "source": [
    "chunks = splitter.split_text(lana_dey_rey_lyrics)"
   ]
  },
  {
   "cell_type": "markdown",
   "id": "bf3b6f09-d62b-406a-9236-6cab17bddc66",
   "metadata": {},
   "source": [
    "example chunk from Lana Dey Rey's Young and Beautiful Lyrics"
   ]
  },
  {
   "cell_type": "code",
   "execution_count": 17,
   "id": "7fc2fe6d-94b2-4344-a68d-7349101b0e2d",
   "metadata": {},
   "outputs": [
    {
     "data": {
      "text/plain": [
       "\"'ve seen the world, done it all\\nHad my cake now\\nDiamonds, brilliant, and Bel Air now\\n\\n[Pre-Chorus]\\nHot summer nights, mid-July\\nWhen you and I were forever wild\\nThe crazy days, city lights\\nThe way you'd play with me like a child\""
      ]
     },
     "execution_count": 17,
     "metadata": {},
     "output_type": "execute_result"
    }
   ],
   "source": [
    "chunks[0]"
   ]
  },
  {
   "cell_type": "markdown",
   "id": "5da3ebaf-4933-4771-965d-a59ac55c0f58",
   "metadata": {},
   "source": [
    "printing chunks"
   ]
  },
  {
   "cell_type": "code",
   "execution_count": 19,
   "id": "53e23cb1-02ff-4536-b740-d0f006dc4be4",
   "metadata": {},
   "outputs": [
    {
     "name": "stdout",
     "output_type": "stream",
     "text": [
      "Chunk 1:\n",
      "'ve seen the world, done it all\n",
      "Had my cake now\n",
      "Diamonds, brilliant, and Bel Air now\n",
      "\n",
      "[Pre-Chorus]\n",
      "Hot summer nights, mid-July\n",
      "When you and I were forever wild\n",
      "The crazy days, city lights\n",
      "The way you'd play with me like a child\n",
      "\n",
      "\n",
      "~~~~~~~~~~~~~~~~~~~~~~~~~~~~~~~~~~~~~~~~~~~~~~~~~~~~~~~~~~~~~~~~~~~~~~\n",
      "\n",
      "Chunk 2:\n",
      "[Chorus]\n",
      "Will you still love me when I'm no longer young and beautiful?\n",
      "Will you still love me when I got nothing but my aching soul?\n",
      "I know you will, I know you will, I know that you will\n",
      "Will you still love me when I'm no longer beautiful?\n",
      "\n",
      "\n",
      "~~~~~~~~~~~~~~~~~~~~~~~~~~~~~~~~~~~~~~~~~~~~~~~~~~~~~~~~~~~~~~~~~~~~~~\n",
      "\n",
      "Chunk 3:\n",
      "[Verse 2]\n",
      "I've seen the world, lit it up as my stage now\n",
      "Channeling angels in the new age now\n",
      "\n",
      "\n",
      "~~~~~~~~~~~~~~~~~~~~~~~~~~~~~~~~~~~~~~~~~~~~~~~~~~~~~~~~~~~~~~~~~~~~~~\n",
      "\n",
      "Chunk 4:\n",
      "[Pre-Chorus]\n",
      "Hot summer days, rock and roll\n",
      "The way you'd play for me at your show\n",
      "And all the ways I got to know\n",
      "Your pretty face and electric soul\n",
      "You might also like\n",
      "The Tortured Poets Department\n",
      "Taylor Swift\n",
      "loml\n",
      "Taylor Swift\n",
      "Sticky\n",
      "Tyler, The Creator\n",
      "[Chorus]\n",
      "\n",
      "\n",
      "~~~~~~~~~~~~~~~~~~~~~~~~~~~~~~~~~~~~~~~~~~~~~~~~~~~~~~~~~~~~~~~~~~~~~~\n",
      "\n",
      "Chunk 5:\n",
      "Taylor Swift\n",
      "Sticky\n",
      "Tyler, The Creator\n",
      "[Chorus]\n",
      "Will you still love me when I'm no longer young and beautiful?\n",
      "Will you still love me when I got nothing but my aching soul?\n",
      "I know you will, I know you will, I know that you will\n",
      "Will you still love me when I'm no longer beautiful?\n",
      "\n",
      "\n",
      "~~~~~~~~~~~~~~~~~~~~~~~~~~~~~~~~~~~~~~~~~~~~~~~~~~~~~~~~~~~~~~~~~~~~~~\n",
      "\n",
      "Chunk 6:\n",
      "[Bridge]\n",
      "Dear Lord, when I get to Heaven\n",
      "Please, let me bring my man\n",
      "When he comes, tell me that You'll let him in\n",
      "Father, tell me if You can\n",
      "All that grace, all that body\n",
      "All that face makes me wanna party\n",
      "He's my sun, he makes me shine like diamonds\n",
      "\n",
      "\n",
      "~~~~~~~~~~~~~~~~~~~~~~~~~~~~~~~~~~~~~~~~~~~~~~~~~~~~~~~~~~~~~~~~~~~~~~\n",
      "\n",
      "Chunk 7:\n",
      "[Chorus]\n",
      "And will you still love me when I'm no longer young and beautiful?\n",
      "Will you still love me when I got nothin' but my aching soul?\n",
      "I know you will, I know you will, I know that you will\n",
      "Will you still love me when I'm no longer beautiful?\n",
      "\n",
      "\n",
      "~~~~~~~~~~~~~~~~~~~~~~~~~~~~~~~~~~~~~~~~~~~~~~~~~~~~~~~~~~~~~~~~~~~~~~\n",
      "\n",
      "Chunk 8:\n",
      "[Outro]\n",
      "Will you still love me when I'm no longer beautiful?\n",
      "Will you still love me when I'm not young and beautiful?\n",
      "\n",
      "\n",
      "~~~~~~~~~~~~~~~~~~~~~~~~~~~~~~~~~~~~~~~~~~~~~~~~~~~~~~~~~~~~~~~~~~~~~~\n",
      "\n"
     ]
    }
   ],
   "source": [
    "for i, chunk in enumerate(chunks):\n",
    "    print(f'Chunk {i+1}:')\n",
    "    print(chunk)\n",
    "    print('\\n\\n' + '~'*70 + '\\n')"
   ]
  }
 ],
 "metadata": {
  "kernelspec": {
   "display_name": "Python 3 (ipykernel)",
   "language": "python",
   "name": "python3"
  },
  "language_info": {
   "codemirror_mode": {
    "name": "ipython",
    "version": 3
   },
   "file_extension": ".py",
   "mimetype": "text/x-python",
   "name": "python",
   "nbconvert_exporter": "python",
   "pygments_lexer": "ipython3",
   "version": "3.11.7"
  }
 },
 "nbformat": 4,
 "nbformat_minor": 5
}
